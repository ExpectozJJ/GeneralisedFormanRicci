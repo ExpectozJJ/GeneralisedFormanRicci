{
 "cells": [
  {
   "cell_type": "code",
   "execution_count": 12,
   "metadata": {},
   "outputs": [],
   "source": [
    "from GeneralisedFormanRicci.frc import GeneralisedFormanRicci"
   ]
  },
  {
   "cell_type": "code",
   "execution_count": 13,
   "metadata": {},
   "outputs": [],
   "source": [
    "data = [[0.8, 2.6], [0.2, 1.0], [0.9, 0.5], [2.7, 1.8], [1.7, 0.5], [2.5, 2.5], [2.4, 1.0], [0.6, 0.9], [0.4, 2.2]]\n",
    "\n",
    "for f in [0, 0.5, 1, 2, 3]:\n",
    "    sc = GeneralisedFormanRicci(data, method = \"rips\", epsilon = f)\n",
    "    frc = sc.compute_forman()"
   ]
  },
  {
   "cell_type": "code",
   "execution_count": 14,
   "metadata": {},
   "outputs": [],
   "source": [
    "for f in range(0, 5):\n",
    "    sc = GeneralisedFormanRicci(points=data, epsilon=f, method=\"rips\", p=2)\n",
    "    frc = sc.compute_forman()"
   ]
  },
  {
   "cell_type": "code",
   "execution_count": null,
   "metadata": {},
   "outputs": [],
   "source": []
  },
  {
   "cell_type": "code",
   "execution_count": 34,
   "metadata": {},
   "outputs": [],
   "source": [
    "import networkx as nx\n",
    "import numpy as np\n",
    "from GraphRicciCurvature.OllivierRicci import OllivierRicci"
   ]
  },
  {
   "cell_type": "code",
   "execution_count": 35,
   "metadata": {},
   "outputs": [],
   "source": [
    "def build_graph(pts, f):\n",
    "    G = nx.Graph()\n",
    "    for i in range(len(pts)):\n",
    "        G.add_node(i, points = pts[i])\n",
    "    \n",
    "    for i in range(len(pts)):\n",
    "        for j in range(len(pts)):\n",
    "            if i != j:\n",
    "                dist = np.linalg.norm(np.array(pts[i])-np.array(pts[j]))\n",
    "                if dist <= f:\n",
    "                    G.add_edge(i,j)\n",
    "    \n",
    "    return G"
   ]
  },
  {
   "cell_type": "code",
   "execution_count": 49,
   "metadata": {},
   "outputs": [
    {
     "name": "stdout",
     "output_type": "stream",
     "text": [
      "1\n",
      "Edge weight not detected in graph, use \"weight\" as default edge weight.\n",
      "2\n",
      "Edge weight not detected in graph, use \"weight\" as default edge weight.\n",
      "3\n",
      "Edge weight not detected in graph, use \"weight\" as default edge weight.\n",
      "4\n",
      "Edge weight not detected in graph, use \"weight\" as default edge weight.\n"
     ]
    }
   ],
   "source": [
    "for f in range(0, 5):\n",
    "    G = build_graph(data, f)\n",
    "    if G.number_of_edges() > 0:\n",
    "        print(f)\n",
    "        orc = OllivierRicci(G, alpha=0.5)\n",
    "        orc.compute_ricci_curvature()"
   ]
  },
  {
   "cell_type": "code",
   "execution_count": null,
   "metadata": {},
   "outputs": [],
   "source": []
  }
 ],
 "metadata": {
  "kernelspec": {
   "display_name": "Python 3",
   "language": "python",
   "name": "python3"
  },
  "language_info": {
   "codemirror_mode": {
    "name": "ipython",
    "version": 3
   },
   "file_extension": ".py",
   "mimetype": "text/x-python",
   "name": "python",
   "nbconvert_exporter": "python",
   "pygments_lexer": "ipython3",
   "version": "3.7.6"
  }
 },
 "nbformat": 4,
 "nbformat_minor": 4
}
